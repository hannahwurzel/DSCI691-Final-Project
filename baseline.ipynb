{
 "cells": [
  {
   "cell_type": "code",
   "execution_count": 1,
   "id": "f3a1ee6f-cb55-46ff-8f3f-9baaa3b6ccfb",
   "metadata": {},
   "outputs": [],
   "source": [
    "# imports\n",
    "import re\n",
    "import pandas as pd\n",
    "import scipy as sp\n",
    "import numpy as np\n",
    "import scipy.sparse\n",
    "from collections import Counter\n",
    "from sklearn.decomposition import TruncatedSVD\n",
    "from sklearn.model_selection import StratifiedShuffleSplit\n",
    "from sklearn.linear_model import LogisticRegression\n",
    "from sklearn.svm import SVC\n",
    "from sklearn.metrics import precision_recall_fscore_support\n",
    "from sklearn.metrics import roc_auc_score"
   ]
  },
  {
   "cell_type": "code",
   "execution_count": 2,
   "id": "c4c19d98-f542-4c3b-84fc-e20e547ce9a9",
   "metadata": {},
   "outputs": [],
   "source": [
    "# import data\n",
    "tweets = pd.read_csv('data/training/tweets.tsv', sep='\\t', header=None,\n",
    "                     names=['tweet_id', 'tweet'])\n",
    "classes = pd.read_csv('data/training/class.tsv', sep='\\t', header=0)"
   ]
  },
  {
   "cell_type": "code",
   "execution_count": 3,
   "id": "f51af369-f0ff-4763-8a06-3e70c28c4577",
   "metadata": {},
   "outputs": [],
   "source": [
    "# 1. Preprocessing\n",
    "# there are more classses (n=17,385) than tweets(n=17,120)\n",
    "# balance the classes by left joining the classes and tweets by var 0 and tweet_id\n",
    "\n",
    "data = pd.merge(tweets, classes, how='left')\n",
    "\n",
    "# 1.1. Remove '@USER' and any proceeding '_' from tweet variable in dataframe\n",
    "data = data.replace(r'@\\w+', '', regex=True)\n",
    "\n",
    "# remove any emoji from the tweet\n",
    "data = data.replace(r'[^\\w\\s]', '', regex=True)\n",
    "\n",
    "# are there duplicates?\n",
    "np.sum(data.duplicated()) \n",
    "# NO!\n",
    "# are there missing values?\n",
    "data.isnull().sum()\n",
    "# no missing values!\n",
    "\n",
    "# convert label to binary\n",
    "data = data.replace(['NoADE', 'ADE'], [0, 1])"
   ]
  },
  {
   "cell_type": "code",
   "execution_count": 4,
   "id": "ba74e26f-883d-4a1c-b5ff-ca452dc50ede",
   "metadata": {},
   "outputs": [
    {
     "name": "stdout",
     "output_type": "stream",
     "text": [
      "Train index: [ 3360  9091  6988 ...   910 12559   444] Test index: [ 5122  1796   298 ...  1025  2309 14625]\n"
     ]
    }
   ],
   "source": [
    "# 2. split data into training and test sets\n",
    "# use stratified sampling to balance the classes\n",
    "strat_split = StratifiedShuffleSplit(n_splits=1, test_size=0.2, random_state=691)\n",
    "X = data['tweet'].to_numpy()\n",
    "y = data['label'].to_numpy()\n",
    "\n",
    "for train_index, test_index in strat_split.split(X, y):\n",
    "    print(f\"Train index: {train_index}\", f\"Test index: {test_index}\")\n",
    "    X_train, X_test = X[train_index], X[test_index]\n",
    "    y_train, y_test = y[train_index], y[test_index]\n"
   ]
  },
  {
   "cell_type": "code",
   "execution_count": 5,
   "id": "b0d176eb-7d64-4a23-9231-5a5ffc0ebdda",
   "metadata": {},
   "outputs": [
    {
     "data": {
      "text/plain": [
       "label\n",
       "0    15909\n",
       "1     1211\n",
       "dtype: int64"
      ]
     },
     "execution_count": 5,
     "metadata": {},
     "output_type": "execute_result"
    }
   ],
   "source": [
    "# 3. EDA\n",
    "# from pandas_profiling import ProfileReport\n",
    "# profile_train = pandas_profiling.ProfileReport(train, title=\"Pandas Profiling Report (Train)\")\n",
    "# profile_train.to_file(\"DSCI691-GRP-PICKLE_RICK/Task_1/subtask_1a/profile_train.html\")\n",
    "# check for class imbalance\n",
    "data.groupby('label').size()"
   ]
  },
  {
   "cell_type": "code",
   "execution_count": 6,
   "id": "693e4c23-745f-4ee5-ae56-b2d20305fce0",
   "metadata": {},
   "outputs": [
    {
     "data": {
      "image/png": "[encoded data removed]",
      "text/plain": [
       "<Figure size 432x288 with 1 Axes>"
      ]
     },
     "metadata": {
      "needs_background": "light"
     },
     "output_type": "display_data"
    }
   ],
   "source": [
    "# visualize the distribution of y_train data\n",
    "import matplotlib.pyplot as plt\n",
    "ys = pd.Series(y_train)\n",
    "ys.value_counts().plot(kind='bar')\n",
    "plt.show()"
   ]
  },
  {
   "cell_type": "code",
   "execution_count": 7,
   "id": "2bf74968-9efd-486e-9ae1-e61d77b8c373",
   "metadata": {},
   "outputs": [
    {
     "data": {
      "image/png": "[encoded data removed]",
      "text/plain": [
       "<Figure size 432x288 with 1 Axes>"
      ]
     },
     "metadata": {
      "needs_background": "light"
     },
     "output_type": "display_data"
    }
   ],
   "source": [
    "# test data\n",
    "ys2 = pd.Series(y_test)\n",
    "ys2.value_counts().plot(kind='bar')\n",
    "plt.show()"
   ]
  },
  {
   "cell_type": "code",
   "execution_count": 8,
   "id": "f50b005a-0008-4f2b-bfb1-6647c790b366",
   "metadata": {},
   "outputs": [],
   "source": [
    "# Notes:\n",
    "# There is a class imbalance in the outcome variable \"class\"\n",
    "# Only 7.2% of the tweets are labeled as \"NoADE\"\n",
    "# see report for more details\n",
    "# suggestion from jake: keep data as is\n",
    "###################################################################################################\n",
    "# 4. text representation\n",
    "# convert tweets to matrix of word counts and remove stop words\n",
    "from sklearn.feature_extraction.text import CountVectorizer\n",
    "\n",
    "countvec = CountVectorizer(stop_words='english')"
   ]
  },
  {
   "cell_type": "code",
   "execution_count": 9,
   "id": "c859fd91-e1cb-4030-9eac-dec03e1ae0e0",
   "metadata": {},
   "outputs": [],
   "source": [
    "# normalise count matrix to decrease the effect of word frequencies\n",
    "from sklearn.feature_extraction.text import TfidfTransformer\n",
    "\n",
    "tfidf = TfidfTransformer()\n",
    "\n",
    "# vectorize and transform train and test data\n",
    "train_transformed = tfidf.fit_transform(countvec.fit_transform(X_train))\n",
    "test_transformed = tfidf.transform(countvec.transform(X_test))"
   ]
  },
  {
   "cell_type": "code",
   "execution_count": 10,
   "id": "8893dc7e-d798-45c2-a129-7bf919a3340f",
   "metadata": {},
   "outputs": [],
   "source": [
    "###################################################################################################\n",
    "# LOGISTIC REGRESSION\n",
    "###################################################################################################\n",
    "# classification using logistic regression\n",
    "# course notes uses the 'liblinear' solver however sklearn uses the 'lbfgs' solver as default\n",
    "log_reg = LogisticRegression(solver='lbfgs', random_state=691, class_weight='balanced')\n",
    "\n",
    "# fit\n",
    "log_reg.fit(train_transformed, y_train)\n",
    "y_pred = log_reg.predict(test_transformed)"
   ]
  },
  {
   "cell_type": "code",
   "execution_count": 11,
   "id": "9dd35df9-ac7c-4c4a-8b84-04a228275968",
   "metadata": {},
   "outputs": [
    {
     "name": "stdout",
     "output_type": "stream",
     "text": [
      "Logistic Regression:\n",
      "AUC: 0.8005490595342605\n",
      "Precision: 0.38\n",
      "Recall: 0.69\n",
      "F1 Score: 0.49\n"
     ]
    }
   ],
   "source": [
    "# print results\n",
    "print(f\"Logistic Regression:\")\n",
    "print(f\"AUC: {roc_auc_score(y_test, y_pred)}\")  #0.797\n",
    "print(f\"Precision: {precision_recall_fscore_support(y_test, y_pred, average='binary', pos_label=1)[0]:.2f}\") # 0.37\n",
    "print(f\"Recall: {precision_recall_fscore_support(y_test, y_pred, average='binary', pos_label=1)[1]:.2f}\") # 0.68\n",
    "print(f\"F1 Score: {precision_recall_fscore_support(y_test, y_pred, average='binary', pos_label=1)[2]:.2f}\") # 0.48"
   ]
  },
  {
   "cell_type": "code",
   "execution_count": 12,
   "id": "f43c0e96-a982-4698-9570-b0fdca331ace",
   "metadata": {},
   "outputs": [],
   "source": [
    "# confusion matrix\n",
    "from sklearn.metrics import confusion_matrix\n",
    "mat = confusion_matrix(y_test, y_pred)"
   ]
  },
  {
   "cell_type": "code",
   "execution_count": 13,
   "id": "9ad50dde-5ebc-4dae-9be7-f5ce9e3e9c40",
   "metadata": {},
   "outputs": [],
   "source": [
    "# SVM WITH TF-IDF FEATURES\n",
    "###################################################################################################\n",
    "# standard SVM classifier with TF-IDF features\n",
    "# linear kernel\n",
    "sv_m = SVC(kernel='linear', class_weight='balanced', random_state=691)\n",
    "# fit\n",
    "sv_m.fit(train_transformed, y_train)\n",
    "y_pred_sv = sv_m.predict(test_transformed)"
   ]
  },
  {
   "cell_type": "code",
   "execution_count": 14,
   "id": "3b6e3352-e539-4330-91db-30d477a274f1",
   "metadata": {},
   "outputs": [
    {
     "name": "stdout",
     "output_type": "stream",
     "text": [
      "SVM:\n",
      "AUC: 0.7523699944418761\n",
      "Precision: 0.44\n",
      "Recall: 0.56\n",
      "F1 Score: 0.49\n"
     ]
    }
   ],
   "source": [
    "# print results\n",
    "print(f\"SVM:\")\n",
    "print(f\"AUC: {roc_auc_score(y_test, y_pred_sv)}\")\n",
    "print(f\"Precision: {precision_recall_fscore_support(y_test, y_pred_sv, average='binary', pos_label=1)[0]:.2f}\")\n",
    "print(f\"Recall: {precision_recall_fscore_support(y_test, y_pred_sv, average='binary', pos_label=1)[1]:.2f}\")\n",
    "print(f\"F1 Score: {precision_recall_fscore_support(y_test, y_pred_sv, average='binary', pos_label=1)[2]:.2f}\")"
   ]
  },
  {
   "cell_type": "code",
   "execution_count": 15,
   "id": "056acb4f-779d-40da-bae1-2f62de2c4bfe",
   "metadata": {},
   "outputs": [
    {
     "data": {
      "application/vnd.jupyter.widget-view+json": {
       "model_id": "b34637723375418a8f277e963433ee71",
       "version_major": 2,
       "version_minor": 0
      },
      "text/plain": [
       "Downloading:   0%|          | 0.00/878k [00:00<?, ?B/s]"
      ]
     },
     "metadata": {},
     "output_type": "display_data"
    },
    {
     "data": {
      "application/vnd.jupyter.widget-view+json": {
       "model_id": "895555c6d35d4682be13281859cd8fe5",
       "version_major": 2,
       "version_minor": 0
      },
      "text/plain": [
       "Downloading:   0%|          | 0.00/446k [00:00<?, ?B/s]"
      ]
     },
     "metadata": {},
     "output_type": "display_data"
    },
    {
     "data": {
      "application/vnd.jupyter.widget-view+json": {
       "model_id": "0a25e1542e244d339c690aca3a51c1bb",
       "version_major": 2,
       "version_minor": 0
      },
      "text/plain": [
       "Downloading:   0%|          | 0.00/481 [00:00<?, ?B/s]"
      ]
     },
     "metadata": {},
     "output_type": "display_data"
    },
    {
     "data": {
      "application/vnd.jupyter.widget-view+json": {
       "model_id": "93187ce15c534ae68c953d2bc8a108f1",
       "version_major": 2,
       "version_minor": 0
      },
      "text/plain": [
       "Downloading:   0%|          | 0.00/478M [00:00<?, ?B/s]"
      ]
     },
     "metadata": {},
     "output_type": "display_data"
    },
    {
     "name": "stderr",
     "output_type": "stream",
     "text": [
      "Some weights of the model checkpoint at roberta-base were not used when initializing RobertaModel: ['lm_head.layer_norm.weight', 'lm_head.dense.bias', 'lm_head.decoder.weight', 'lm_head.layer_norm.bias', 'lm_head.bias', 'lm_head.dense.weight']\n",
      "- This IS expected if you are initializing RobertaModel from the checkpoint of a model trained on another task or with another architecture (e.g. initializing a BertForSequenceClassification model from a BertForPreTraining model).\n",
      "- This IS NOT expected if you are initializing RobertaModel from the checkpoint of a model that you expect to be exactly identical (initializing a BertForSequenceClassification model from a BertForSequenceClassification model).\n"
     ]
    },
    {
     "ename": "ValueError",
     "evalue": "text input must of type `str` (single example), `List[str]` (batch or single pretokenized example) or `List[List[str]]` (batch of pretokenized examples).",
     "output_type": "error",
     "traceback": [
      "\u001b[0;31m---------------------------------------------------------------------------\u001b[0m",
      "\u001b[0;31mValueError\u001b[0m                                Traceback (most recent call last)",
      "\u001b[0;32m<ipython-input-15-1189ed4d81b4>\u001b[0m in \u001b[0;36m<module>\u001b[0;34m\u001b[0m\n\u001b[1;32m      4\u001b[0m \u001b[0mmodel\u001b[0m \u001b[0;34m=\u001b[0m \u001b[0mRobertaModel\u001b[0m\u001b[0;34m.\u001b[0m\u001b[0mfrom_pretrained\u001b[0m\u001b[0;34m(\u001b[0m\u001b[0;34m'roberta-base'\u001b[0m\u001b[0;34m)\u001b[0m\u001b[0;34m\u001b[0m\u001b[0;34m\u001b[0m\u001b[0m\n\u001b[1;32m      5\u001b[0m \u001b[0mtext\u001b[0m \u001b[0;34m=\u001b[0m \u001b[0mtrain_transformed\u001b[0m\u001b[0;34m\u001b[0m\u001b[0;34m\u001b[0m\u001b[0m\n\u001b[0;32m----> 6\u001b[0;31m \u001b[0mencoded_input\u001b[0m \u001b[0;34m=\u001b[0m \u001b[0mtokenizer\u001b[0m\u001b[0;34m(\u001b[0m\u001b[0mtext\u001b[0m\u001b[0;34m,\u001b[0m \u001b[0mreturn_tensors\u001b[0m\u001b[0;34m=\u001b[0m\u001b[0;34m'pt'\u001b[0m\u001b[0;34m)\u001b[0m\u001b[0;34m\u001b[0m\u001b[0;34m\u001b[0m\u001b[0m\n\u001b[0m\u001b[1;32m      7\u001b[0m \u001b[0moutput\u001b[0m \u001b[0;34m=\u001b[0m \u001b[0mmodel\u001b[0m\u001b[0;34m(\u001b[0m\u001b[0;34m**\u001b[0m\u001b[0mencoded_input\u001b[0m\u001b[0;34m)\u001b[0m\u001b[0;34m\u001b[0m\u001b[0;34m\u001b[0m\u001b[0m\n",
      "\u001b[0;32m/opt/anaconda3/lib/python3.8/site-packages/transformers/tokenization_utils_base.py\u001b[0m in \u001b[0;36m__call__\u001b[0;34m(self, text, text_pair, add_special_tokens, padding, truncation, max_length, stride, is_split_into_words, pad_to_multiple_of, return_tensors, return_token_type_ids, return_attention_mask, return_overflowing_tokens, return_special_tokens_mask, return_offsets_mapping, return_length, verbose, **kwargs)\u001b[0m\n\u001b[1;32m   2449\u001b[0m \u001b[0;34m\u001b[0m\u001b[0m\n\u001b[1;32m   2450\u001b[0m         \u001b[0;32mif\u001b[0m \u001b[0;32mnot\u001b[0m \u001b[0m_is_valid_text_input\u001b[0m\u001b[0;34m(\u001b[0m\u001b[0mtext\u001b[0m\u001b[0;34m)\u001b[0m\u001b[0;34m:\u001b[0m\u001b[0;34m\u001b[0m\u001b[0;34m\u001b[0m\u001b[0m\n\u001b[0;32m-> 2451\u001b[0;31m             raise ValueError(\n\u001b[0m\u001b[1;32m   2452\u001b[0m                 \u001b[0;34m\"text input must of type `str` (single example), `List[str]` (batch or single pretokenized example) \"\u001b[0m\u001b[0;34m\u001b[0m\u001b[0;34m\u001b[0m\u001b[0m\n\u001b[1;32m   2453\u001b[0m                 \u001b[0;34m\"or `List[List[str]]` (batch of pretokenized examples).\"\u001b[0m\u001b[0;34m\u001b[0m\u001b[0;34m\u001b[0m\u001b[0m\n",
      "\u001b[0;31mValueError\u001b[0m: text input must of type `str` (single example), `List[str]` (batch or single pretokenized example) or `List[List[str]]` (batch of pretokenized examples)."
     ]
    }
   ],
   "source": [
    "# roBERTa model\n",
    "from transformers import RobertaTokenizer, RobertaModel\n",
    "tokenizer = RobertaTokenizer.from_pretrained('roberta-base')\n",
    "model = RobertaModel.from_pretrained('roberta-base')\n",
    "text = train_transformed\n",
    "encoded_input = tokenizer(text, return_tensors='pt')\n",
    "output = model(**encoded_input)"
   ]
  },
  {
   "cell_type": "code",
   "execution_count": null,
   "id": "fe09f579-a463-415e-928e-1a8f095ad271",
   "metadata": {},
   "outputs": [],
   "source": []
  }
 ],
 "metadata": {
  "kernelspec": {
   "display_name": "Python 3",
   "language": "python",
   "name": "python3"
  },
  "language_info": {
   "codemirror_mode": {
    "name": "ipython",
    "version": 3
   },
   "file_extension": ".py",
   "mimetype": "text/x-python",
   "name": "python",
   "nbconvert_exporter": "python",
   "pygments_lexer": "ipython3",
   "version": "3.8.8"
  }
 },
 "nbformat": 4,
 "nbformat_minor": 5
}
