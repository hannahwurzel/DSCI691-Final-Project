{
 "cells": [
  {
   "cell_type": "markdown",
   "metadata": {
    "id": "zkQDuZm9pIiJ"
   },
   "source": [
    "### Project group\n",
    "- Group member 1\n",
    "    - Name: Stephan Dupoux\n",
    "    - Email: sgd45@drexel.edu\n",
    "- Group member 2\n",
    "    - Name: Layla Bouzoubaa\n",
    "    - Email: lb3338@drexel.edu\n",
    "- Group member 3\n",
    "    - Name: Hannah Wurzel\n",
    "    - Email: hjw35@drexel.edu\n",
    "- Group member 4\n",
    "    - Name: Zifeng Wang\n",
    "    - Email: zw438@drexel.edu\n",
    "\n",
    "### Additional submission comments\n",
    "- External support and stakeholders: NA\n",
    "- Other (other): NA\n",
    "- Large groups justification: NA"
   ]
  },
  {
   "cell_type": "markdown",
   "metadata": {
    "id": "E4roU5IlbvJb"
   },
   "source": [
    "# DSCI 691: Natural Language Processing with Deep Learning <br> Term Project Phase 1: Scoping"
   ]
  },
  {
   "cell_type": "markdown",
   "metadata": {
    "id": "t2oC-6q0bvJh"
   },
   "source": [
    "### Project title, abstract, and expanded team description\n",
    "\n",
    "Here, you should provide and informative name (this can be updated later) for your project, in addition to a 150-word maximum project abstract, providing a short, intuitive description of the project's intent.\n",
    "- Title: Adverse Drug Event Mining in English Tweets\n",
    "- Abstract:\n",
    "    > Adverse drug reactions (ADR) are described as “an appreciably harmful or unpleasant reaction resulting from an intervention related to the use of a medicinal product”<sup>5</sup>. In fact, 3%-7% of hospitalizations occur because of ADR.  Additionally, 10%-20% of hospital patients will endure ADR while hospitalized.  It is thought that nearly 10%-20% of these cases of ADR are severe and can lead to damaging side effects and even death in some cases<sup>6</sup>.    \n",
    "In the new age of technology, people are turning to social media to discuss their own ADRs.  These mentions often include slang, misspelled words and emojis making them hard to track down.  In this paper we are aiming to capture these mentions of ADRs.  Specifically, we will be participating in the Social Media Mining for Health 2022 (SMM4H) shared tasks, particularly task 1A, on detecting whether or not a tweet contains mention of an ADR or no mention of an ADR.\n",
    "\n",
    "\n",
    "Additionally, each team member must fill out the below information. \n",
    "\n",
    "- Group member 1\n",
    "    - Name: Layla Bouzoubaa\n",
    "    - Interests: drugs, NLP, social media\n",
    "    - Background: BSIE, MSPH, and current doctoral student in Information Science\n",
    "- Group member 2\n",
    "    - Name: Hannah Wurzel\n",
    "    - Interests: machine learning engineering\n",
    "    - Background: BS in mathematics and computer science, current MSDS student\n",
    "- Group member 3\n",
    "    - Name: Stephan Dupoux\n",
    "    - Interests: Anomoly Detection, Financial Engineering, MIR\n",
    "    - Background: BS in Operations Research current MS in Artificial Intelligence/Machine LEarning\n",
    "- Group member 4\n",
    "    - Name: Zifeng Wang\n",
    "    - Interests: Machine Learning, Big Data Analysis and NLP\n",
    "    - Background: BS in Information System current MSDS student.\n"
   ]
  },
  {
   "cell_type": "markdown",
   "metadata": {
    "id": "3MIehqNebvJk"
   },
   "source": [
    "### Paper summary metadata\n",
    "*Due to this particular task being both a shared task for SMM4H and an important topic in the field of pharmacovigilance, there was an abundance of literature from which to choose. We felt that selecting three, each with different methodologies would be more comprehensive than selecting only one.*\n",
    "\n",
    "- Title: KFU NLP Team at SMM4H 2019 Tasks: Want to Extract Adverse Drugs Reactions from Tweets? Bert to the Rescue.\n",
    "- Link: https://doi.org/10.18653/v1/w19-3207\n",
    "- Bibliographical information: Miftahutdinov, Zulfat, et al. “KFU NLP Team at SMM4H 2019 Tasks: Want to Extract Adverse Drugs Reactions from Tweets? Bert to the Rescue.” Proceedings of the Fourth Social Media Mining for Health Applications (#SMM4H) Workshop & Shared Task, 2019, https://doi.org/10.18653/v1/w19-3207.\n",
    "\n",
    "---\n",
    "\n",
    "- Title: Interactive attention network for adverse drug reaction classification. \n",
    "- Link: https://link-springer-com.ezproxy2.library.drexel.edu/chapter/10.1007/978-3-030-01204-5_18\n",
    "- Biblographical information: Alimova, I., & Solovyev, V. (2018, October). Interactive attention network for adverse drug reaction classification. In Conference on Artificial Intelligence and Natural Language (pp. 185-196). Springer, Cham.\n",
    "\n",
    "---\n",
    "\n",
    "- Title: Towards text processing pipelines to identify adverse drug events-related tweets: university of michigan@ SMM4H 2019\n",
    "- Link: https://aclanthology.org/W19-3217.pdf \n",
    "- Bibliographic information: Vydiswaran, V. V., Ganzel, G., Romas, B., Yu, D., Austin, A., Bhomia, N., ... & Zimmerman, S. (2019, August). Towards text processing pipelines to identify adverse drug events-related tweets: university of michigan@ SMM4H 2019 task 1. In Proceedings of the fourth social media mining for health applications (# SMM4H) workshop & shared task (pp. 107-109)."
   ]
  },
  {
   "cell_type": "markdown",
   "metadata": {
    "id": "CvOArPDd-YQ-"
   },
   "source": [
    "A 2018 paper from Alimova et al. investigated the efficacy of interactive attention networks (IAN) for ADR classification through experimentation of four corpora from askapatient.com, twitter.com, and PubMed2.  The authors believe that deep learning models with attention for sentiment analysis will help with ADR classification.  This study provides an alternative method of addressing the same task as we are. \n",
    "\n",
    "Interactive Attention Method (IAN) was used to address two challenges. The first was to represent the context of the target, ADR and non-ADR. The second was to generate the target representation that can interact with its context. The IAN was composed of word embeddings, obtained using word2vec trained on an unlabeled health corpus of 2.5 million reviews, as input and LSTM layers to get hidden states of words and its context. These components were used to calculate the attention vectors which were then used to detect the important words of the target expression. The attention vectors were used to compute context and target representations that are then concatenated to a single classification vector. Multiple lexicons were used to address a third challenge, to identify the important sentiment words of the target.These methods were experimented against a baseline model, constituted of SVM with Linear kernel.\n",
    "\n",
    "Four corpora were used to conduct experiments.CSIRO Adverse Drug Event Corpus (CADEC), a corpus of annotated user reviews written about Diclofenac or Lipitor on askapatient.com. Annotations for this corpus include 'drug', 'adverse effect', 'disease', 'symptom', 'finding'. MADE is a de-identified electronic health record notes from 21 cancer patients made specifically for an NLP challenge for detecting medication and adverse drug events. The TwiMed annotated corpus consists of sentences extracted from PubMed and tweets. The annotations included the label 'Outcome-negative' that was indicative of an ADR. Lastly, a corpus of tweets from Twitter with the annotations: 'ADR', 'Indication', and 'Other' was included. SentiWordNet, MPQA Subjectivity Lexicon, and Bing Liu's dictionaries were the lexicons used to extract sentiment.\n",
    "\n",
    "All models were evaluated with 5-fold cross-validation and macro-averaged values of recall, precision, and F1 were computed for both classes. The results of this study found that IAN outperformed the baseline model in the macro-averaged measures for both ADR and non-ADR classes, specifically on the Twitter, TwiMed-PubMed, and TwiMed-Twitter corpora.\n",
    "\n",
    "This approach is different from what was proposed by Vydiswaran et al. to address this same classification task at SMM4H 20193. For subtask A, a classifier was developed using SVM with a linear kernel and balanced weights. The model was trained on unigrams from lowercase tweets and individual features weights were found using IDF. A test processing pipeline was developed for subtask B. This pipeline included 5 main steps: removing UTF-8 characters, processing using the Ekphrasis4 tool (spell check, segmentation, tokenization, and word normalization), lemmatization using NLTK, identifying concepts and semantic types using MetaMap, and the identification of  Systematized Nomenclature of Medicine (SNOMED) concepts using cTAKES whose codes were added as additional features. Similar to subtask A, unigram and bigram features were instantiated and weighted by their IDF and SVM with a linear kernel model was developed with balanced classes. \n",
    "\n",
    "For subtask C, four separate models, a biLSTM and a biLSTM-CNN using pre-trained GloVe and word2vec embeddings. The biLSTM with GloVe was selected as the final model due to the best validation accuracy. This model utilized a categorical cross entropy loss function with RMSprop optimizer.The output layer for the classification task was a dense layer followed by the softmax function.\n"
   ]
  },
  {
   "cell_type": "markdown",
   "metadata": {
    "id": "f6OzQqZDbvJr"
   },
   "source": [
    "#### 3.1 Project goals\n",
    "With the continuing rise of social media, NLP researchers are searching for ways to explore this data in a meaningful and impactful way.  In this project, our group will be investigating tweets to determine whether or not they contain adverse drug effects (ADE).  This investigation will be in part with the Social Media Mining for Health 2022 (SMM4H), specifically task 1A.  \n",
    "Our goals for this project include obtaining a lexicon of ADE words and phrases.  We will then use this lexicon to annotate our batch of tweets.  Then, we plan to build a classifier to identify whether or not a tweet has mention of an ADE.  Lastly, we will evaluate how well our classifier performs on the out of sample test and between other architectures.\n"
   ]
  },
  {
   "cell_type": "markdown",
   "metadata": {
    "id": "D1tB-qAZbvJs"
   },
   "source": [
    "Our project aims to determine if specific Neural Network Architectures can detect ADE within social media posts on twitter. This is a binary classification project where the algorithm will rate a social media post as showing ADE or not. Creating an effective system that can correctly track and notify individuals that they are currently having an Adverse Drug Effect. It is critical to have systems that can effectively detect ADE since they are a major leading cause of death in the USA. The project will use two Neural Network Architectures, RoBERTa and bi-LSTM and see how well they are correct on the dataset. The dataset is coming from the Social Media Mining for Health Applications (#SMM4H) workshop where the training dataset has nearly 17500 labeled tweets and 1235 are classified as ADE."
   ]
  },
  {
   "cell_type": "markdown",
   "metadata": {
    "id": "EaKok7k5bvJs"
   },
   "source": [
    "#### 3.3 Project data\n",
    "Most of the data was provided to us by the organizers of the SMM4H 2022.  This data includes nearly 17,500 labeled tweets which will be used for training.  From these tweets, 1,235 are classified as ADR.  SMM4H also provides participants with around 10,000 tweets which will be used for testing. SMM4H has also stated to us that we will be getting a validation and test set in the near future.\n",
    "We are also going to bring in data from a pre-trained word embedding which was optimized for the inclusion of ADR terms and also trained on Twitter text data.  This data will be useful in creating our lexicon of ADR related words and phrases.\n"
   ]
  },
  {
   "cell_type": "markdown",
   "metadata": {
    "id": "WYF2g2NqbvJt"
   },
   "source": [
    "#### 3.4 Neural methodology\n",
    "In this project, we plan to utilize two different architectures, RoBERTa and bi-LSTM, to classify the tweets containing ADR, and analyze their applicability or potential issues based on their performance.  \n",
    "\n",
    "RoBERTa, standing for Robustly optimized BERT pre-training approach, was developed by Facebook AI and Washington University teams in 2019. It effectively improves the performance of BERT (Bidirectional Encoder Representations from Transformers) by modifying its hyperparameters and training on an order of magnitude more data than BERT.  RoBERTa achieved state-of-the-art performance on the MNLI, QNLI, RTE, STS-B, and RACE tasks, and reached the top position on the benchmark of General Language Understanding Evaluation (GLUE).\n",
    "\n",
    "LSTM (Long Short-Term Memory) network is a type of RNN (Recurrent Neural Network) that is widely used for learning sequential data prediction problems. Bidirectional LSTM, or bi-LSTM, is the process of making the sequence information of an LSTM in both directions, backwards (future to past) or forward(past to future). Bi-LSTM can also be combined with CNN models when applying to text classification, which exhibits higher performance than traditional CNN, LSTM and hybrid models.\n"
   ]
  },
  {
   "cell_type": "markdown",
   "metadata": {
    "id": "vCe8qefebvJt"
   },
   "source": [
    "#### 3.5 Baselines\n",
    "It is vital to have baselines to compare our models against.  Luckily, since SMM4H has provided this task in previous years we are able to use prior submissions to compare our results against.  We will be using two papers from previous SMM4H years and one paper that is not associated with SMM4H but carries the same themes and NLP questions we are trying to solve.  These papers include: Adverse Drug Reaction Classification With Deep Neural Networks, Towards text processing pipelines to identify adverse drug events-related tweets: University of Michigan @ SMM4H 2019 Task 1, and KFU NLP Team at SMM4H 2019 Tasks: Want to Extract Adverse Drugs Reactions from Tweets? BERT to The Rescue.  \n",
    "\tAll of these papers offer different ways to solve the classification problem of whether a tweet contains adverse drug effects or not.  However, something similar about these three papers is that they all use F1 score, Precision, and Recall to evaluate their classifier. These metrics will be an important baseline for how we intend for our classifier to perform.\n"
   ]
  },
  {
   "cell_type": "markdown",
   "metadata": {
    "id": "3SSGzA3RbvJw"
   },
   "source": [
    "#### 3.6 Evaluation\n",
    "\n",
    "From the tweets provided, we will create a validation set that is 20% of our training data. We will use the standard set of evaluation metrics - precision, recall, and F1 measure. The model that performs better based on these metrics will be used on the evaluation set that will be provided by the Task organizers in July. "
   ]
  }
 ],
 "metadata": {
  "colab": {
   "collapsed_sections": [],
   "name": "project-1.ipynb",
   "provenance": []
  },
  "kernelspec": {
   "display_name": "Python 3",
   "language": "python",
   "name": "python3"
  },
  "language_info": {
   "codemirror_mode": {
    "name": "ipython",
    "version": 3
   },
   "file_extension": ".py",
   "mimetype": "text/x-python",
   "name": "python",
   "nbconvert_exporter": "python",
   "pygments_lexer": "ipython3",
   "version": "3.8.8"
  }
 },
 "nbformat": 4,
 "nbformat_minor": 4
}
